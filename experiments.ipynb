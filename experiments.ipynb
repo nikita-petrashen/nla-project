{
 "cells": [
  {
   "cell_type": "markdown",
   "metadata": {},
   "source": [
    "# Spectral relaxation for K-means clustering"
   ]
  },
  {
   "cell_type": "markdown",
   "metadata": {},
   "source": [
    "Nikita Petrashen, Daniil Svirskiy, Nikita Drobyshev, Dinar Sharafutdinov"
   ]
  },
  {
   "cell_type": "code",
   "execution_count": 97,
   "metadata": {
    "ExecuteTime": {
     "end_time": "2019-12-21T15:31:15.264477Z",
     "start_time": "2019-12-21T15:31:15.252486Z"
    },
    "colab": {
     "base_uri": "https://localhost:8080/",
     "height": 35
    },
    "colab_type": "code",
    "id": "YHF36exWngeW",
    "outputId": "f0c10896-2ae6-49f1-db3a-b64ad603fe7d"
   },
   "outputs": [
    {
     "data": {
      "text/plain": [
       "<matplotlib.rc_context at 0x1520d2435c0>"
      ]
     },
     "execution_count": 97,
     "metadata": {},
     "output_type": "execute_result"
    }
   ],
   "source": [
    "import numpy as np\n",
    "import os\n",
    "import pandas as pd\n",
    "from sklearn import metrics\n",
    "from sklearn.metrics.cluster import v_measure_score, homogeneity_completeness_v_measure\n",
    "from sklearn.datasets import fetch_20newsgroups, make_blobs\n",
    "from sklearn.datasets.base import get_data_home\n",
    "from sklearn.feature_extraction.text import TfidfVectorizer\n",
    "from sklearn.cluster import SpectralClustering, KMeans, MiniBatchKMeans\n",
    "import matplotlib.pyplot as plt\n",
    "plt.xkcd()"
   ]
  },
  {
   "cell_type": "markdown",
   "metadata": {
    "colab_type": "text",
    "id": "rvyIOhhUw_ta"
   },
   "source": [
    "### 20newsgroups"
   ]
  },
  {
   "cell_type": "code",
   "execution_count": 2,
   "metadata": {
    "ExecuteTime": {
     "end_time": "2019-12-21T14:52:21.112825Z",
     "start_time": "2019-12-21T14:52:20.132388Z"
    },
    "colab": {
     "base_uri": "https://localhost:8080/"
    },
    "colab_type": "code",
    "id": "nJO7AeFEnsqb",
    "outputId": "381e81fb-1bf3-4127-e523-09268717425c"
   },
   "outputs": [],
   "source": [
    "dataset = fetch_20newsgroups(subset='all', shuffle=True, random_state=42)"
   ]
  },
  {
   "cell_type": "markdown",
   "metadata": {},
   "source": [
    "All categories"
   ]
  },
  {
   "cell_type": "code",
   "execution_count": 4,
   "metadata": {
    "ExecuteTime": {
     "end_time": "2019-12-21T14:52:28.523589Z",
     "start_time": "2019-12-21T14:52:28.520593Z"
    },
    "colab": {},
    "colab_type": "code",
    "id": "d12thDtWnsvn"
   },
   "outputs": [],
   "source": [
    "labels = dataset.target"
   ]
  },
  {
   "cell_type": "code",
   "execution_count": 5,
   "metadata": {
    "ExecuteTime": {
     "end_time": "2019-12-21T14:52:29.889809Z",
     "start_time": "2019-12-21T14:52:29.879815Z"
    },
    "colab": {
     "base_uri": "https://localhost:8080/"
    },
    "colab_type": "code",
    "id": "yL5E35RUsnbS",
    "outputId": "ae93d100-2166-4ed7-a744-c69ac60fd6dd"
   },
   "outputs": [
    {
     "data": {
      "text/plain": [
       "(18846,)"
      ]
     },
     "execution_count": 5,
     "metadata": {},
     "output_type": "execute_result"
    }
   ],
   "source": [
    "labels.shape"
   ]
  },
  {
   "cell_type": "code",
   "execution_count": 6,
   "metadata": {
    "ExecuteTime": {
     "end_time": "2019-12-21T14:52:31.149090Z",
     "start_time": "2019-12-21T14:52:31.098117Z"
    },
    "colab": {
     "base_uri": "https://localhost:8080/"
    },
    "colab_type": "code",
    "id": "S5owDm7_s0tQ",
    "outputId": "f18dbbfd-5007-456c-c70a-6c0840c40c25"
   },
   "outputs": [
    {
     "data": {
      "text/plain": [
       "20"
      ]
     },
     "execution_count": 6,
     "metadata": {},
     "output_type": "execute_result"
    }
   ],
   "source": [
    "np.unique(labels).shape[0]"
   ]
  },
  {
   "cell_type": "code",
   "execution_count": 0,
   "metadata": {
    "colab": {},
    "colab_type": "code",
    "id": "8aYpcQzRA3ws"
   },
   "outputs": [],
   "source": [
    "['alt.atheism',\n",
    " 'comp.graphics',\n",
    " 'comp.os.ms-windows.misc',\n",
    " 'comp.sys.ibm.pc.hardware',\n",
    " 'comp.sys.mac.hardware',\n",
    " 'comp.windows.x',\n",
    " 'misc.forsale',\n",
    " 'rec.autos',\n",
    " 'rec.motorcycles',\n",
    " 'rec.sport.baseball',\n",
    " 'rec.sport.hockey',\n",
    " 'sci.crypt',\n",
    " 'sci.electronics',\n",
    " 'sci.med',\n",
    " 'sci.space',\n",
    " 'soc.religion.christian',\n",
    " 'talk.politics.guns',\n",
    " 'talk.politics.mideast',\n",
    " 'talk.politics.misc',\n",
    " 'talk.religion.misc']"
   ]
  },
  {
   "cell_type": "markdown",
   "metadata": {},
   "source": [
    "2 categories"
   ]
  },
  {
   "cell_type": "code",
   "execution_count": 13,
   "metadata": {
    "ExecuteTime": {
     "end_time": "2019-12-21T14:54:42.988753Z",
     "start_time": "2019-12-21T14:54:42.549005Z"
    },
    "colab": {},
    "colab_type": "code",
    "id": "IL-BO8vLYzdA"
   },
   "outputs": [],
   "source": [
    "categories = ['alt.atheism','comp.graphics']\n",
    "dataset2 = fetch_20newsgroups(subset='all',\n",
    "                             shuffle=True, random_state=42, categories = categories)\n",
    "labels = dataset2.target\n",
    "texts = dataset2.data\n",
    "target = dataset2.target\n",
    "number_of_clusters = 2"
   ]
  },
  {
   "cell_type": "code",
   "execution_count": 14,
   "metadata": {
    "ExecuteTime": {
     "end_time": "2019-12-21T14:54:43.099689Z",
     "start_time": "2019-12-21T14:54:43.090693Z"
    }
   },
   "outputs": [
    {
     "data": {
      "text/plain": [
       "2"
      ]
     },
     "execution_count": 14,
     "metadata": {},
     "output_type": "execute_result"
    }
   ],
   "source": [
    "np.unique(labels).shape[0]"
   ]
  },
  {
   "cell_type": "code",
   "execution_count": 15,
   "metadata": {
    "ExecuteTime": {
     "end_time": "2019-12-21T14:54:43.563423Z",
     "start_time": "2019-12-21T14:54:43.555428Z"
    },
    "colab": {
     "base_uri": "https://localhost:8080/"
    },
    "colab_type": "code",
    "id": "LsOFblOcJnNr",
    "outputId": "daebf4d3-1e74-45cd-c7ed-92a4044e5267"
   },
   "outputs": [
    {
     "data": {
      "text/plain": [
       "(1772, 1772)"
      ]
     },
     "execution_count": 15,
     "metadata": {},
     "output_type": "execute_result"
    }
   ],
   "source": [
    "len(texts), len(target)"
   ]
  },
  {
   "cell_type": "code",
   "execution_count": 16,
   "metadata": {
    "ExecuteTime": {
     "end_time": "2019-12-21T14:54:45.602258Z",
     "start_time": "2019-12-21T14:54:45.596263Z"
    },
    "colab": {
     "base_uri": "https://localhost:8080/"
    },
    "colab_type": "code",
    "id": "CEjkUJpNtKVh",
    "outputId": "647432da-b74e-4ee9-e970-91efb01f17d3"
   },
   "outputs": [
    {
     "data": {
      "text/plain": [
       "\"From: jliddle@rs6000.cmp.ilstu.edu (Jean Liddle)\\nSubject: Re: HELP: Need 24 bits viewer\\nOrganization: Illinois State University\\nKeywords: 24 bit\\nLines: 23\\n\\nIn article <1993Apr29.041601.8884@labtam.labtam.oz.au> graeme@labtam.labtam.oz.a\\nu (Graeme Gill) writes:\\n>In article <5713@seti.inria.fr>, deniaud@cartoon.inria.fr (Gilles Deniaud) writ\\nes:\\n>> Hi,\\n>>\\n>> I'm looking for a program which is able to display 24 bits\\n>> images. We are using a Sun Sparc equipped with Parallax\\n>> graphics board running X11.\\n>\\n>    xli, xloadimage or ImageMagick - export.lcs.mit.edu [18.24.0.12] /contrib\\n>\\n\\nxv 3.0 (shareware) supports 24-bit displays, and has lots of other\\nimprovements over earlier versions.  Definitely worth checking out\\n(also at export)\\n\\nJean.\\n-- \\nJean Liddle                                 \\nComputer Science, Illinois State University  \\ne-mail:  jliddle@ilstu.edu                  \\n--------------------------------------------\\n\""
      ]
     },
     "execution_count": 16,
     "metadata": {},
     "output_type": "execute_result"
    }
   ],
   "source": [
    "texts[0]"
   ]
  },
  {
   "cell_type": "code",
   "execution_count": 17,
   "metadata": {
    "ExecuteTime": {
     "end_time": "2019-12-21T14:54:52.064568Z",
     "start_time": "2019-12-21T14:54:51.044149Z"
    },
    "colab": {},
    "colab_type": "code",
    "id": "GSQUwHUUtKgw"
   },
   "outputs": [],
   "source": [
    "vectorizer = TfidfVectorizer(stop_words='english')\n",
    "X = vectorizer.fit_transform(texts)"
   ]
  },
  {
   "cell_type": "code",
   "execution_count": 18,
   "metadata": {
    "ExecuteTime": {
     "end_time": "2019-12-21T14:54:52.132528Z",
     "start_time": "2019-12-21T14:54:52.125530Z"
    },
    "colab": {
     "base_uri": "https://localhost:8080/"
    },
    "colab_type": "code",
    "id": "Zy0nDnnYt63k",
    "outputId": "32f6bc67-d061-4dc8-d0e4-94ace85b9945"
   },
   "outputs": [
    {
     "data": {
      "text/plain": [
       "(1772, 27756)"
      ]
     },
     "execution_count": 18,
     "metadata": {},
     "output_type": "execute_result"
    }
   ],
   "source": [
    "X.shape"
   ]
  },
  {
   "cell_type": "code",
   "execution_count": 19,
   "metadata": {
    "ExecuteTime": {
     "end_time": "2019-12-21T14:55:21.145947Z",
     "start_time": "2019-12-21T14:55:16.540578Z"
    },
    "colab": {
     "base_uri": "https://localhost:8080/"
    },
    "colab_type": "code",
    "id": "GceZY3aauz_B",
    "outputId": "3850140e-7c51-4db1-a0cb-952286a7550b"
   },
   "outputs": [
    {
     "data": {
      "text/plain": [
       "KMeans(algorithm='auto', copy_x=True, init='k-means++', max_iter=100,\n",
       "    n_clusters=2, n_init=1, n_jobs=None, precompute_distances='auto',\n",
       "    random_state=None, tol=0.0001, verbose=0)"
      ]
     },
     "execution_count": 19,
     "metadata": {},
     "output_type": "execute_result"
    }
   ],
   "source": [
    "model = KMeans(n_clusters=number_of_clusters, \n",
    "               init='k-means++', \n",
    "               max_iter=100, \n",
    "               n_init=1)\n",
    "\n",
    "model.fit(X)"
   ]
  },
  {
   "cell_type": "code",
   "execution_count": 20,
   "metadata": {
    "ExecuteTime": {
     "end_time": "2019-12-21T14:55:23.061855Z",
     "start_time": "2019-12-21T14:55:23.054857Z"
    },
    "colab": {
     "base_uri": "https://localhost:8080/"
    },
    "colab_type": "code",
    "id": "Kr508fV4KL0a",
    "outputId": "69a93509-d2da-433a-e92c-08aab7c86dd3"
   },
   "outputs": [
    {
     "data": {
      "text/plain": [
       "(1772, 27756)"
      ]
     },
     "execution_count": 20,
     "metadata": {},
     "output_type": "execute_result"
    }
   ],
   "source": [
    "X.shape"
   ]
  },
  {
   "cell_type": "code",
   "execution_count": 22,
   "metadata": {
    "ExecuteTime": {
     "end_time": "2019-12-21T14:55:42.609684Z",
     "start_time": "2019-12-21T14:55:42.604685Z"
    }
   },
   "outputs": [],
   "source": [
    "random_state = 42"
   ]
  },
  {
   "cell_type": "code",
   "execution_count": 23,
   "metadata": {
    "ExecuteTime": {
     "end_time": "2019-12-21T14:56:30.171056Z",
     "start_time": "2019-12-21T14:55:43.248318Z"
    },
    "colab": {},
    "colab_type": "code",
    "id": "29h4_4TBJ7_V"
   },
   "outputs": [],
   "source": [
    "y_pred_texts = KMeans(n_clusters=number_of_clusters, random_state=random_state).fit_predict(X)"
   ]
  },
  {
   "cell_type": "code",
   "execution_count": 26,
   "metadata": {
    "ExecuteTime": {
     "end_time": "2019-12-21T14:56:36.268573Z",
     "start_time": "2019-12-21T14:56:36.055696Z"
    },
    "colab": {
     "base_uri": "https://localhost:8080/"
    },
    "colab_type": "code",
    "id": "8SxUKTTCZlYZ",
    "outputId": "fefda6dd-ec4c-470a-d8d8-20f5c8199876"
   },
   "outputs": [
    {
     "data": {
      "text/plain": [
       "0.7772500533604567"
      ]
     },
     "execution_count": 26,
     "metadata": {},
     "output_type": "execute_result"
    }
   ],
   "source": [
    "v_measure_score(target, y_pred_texts)"
   ]
  },
  {
   "cell_type": "code",
   "execution_count": 28,
   "metadata": {
    "ExecuteTime": {
     "end_time": "2019-12-21T14:56:54.366233Z",
     "start_time": "2019-12-21T14:56:54.355238Z"
    },
    "colab": {
     "base_uri": "https://localhost:8080/"
    },
    "colab_type": "code",
    "id": "MiSAQ19vPZ9b",
    "outputId": "18befbfc-5b96-4552-e7c8-601b529f6f93"
   },
   "outputs": [
    {
     "data": {
      "text/plain": [
       "0.7829561746289551"
      ]
     },
     "execution_count": 28,
     "metadata": {},
     "output_type": "execute_result"
    }
   ],
   "source": [
    "metrics.completeness_score(target, y_pred_texts)"
   ]
  },
  {
   "cell_type": "code",
   "execution_count": 29,
   "metadata": {
    "ExecuteTime": {
     "end_time": "2019-12-21T14:56:56.638932Z",
     "start_time": "2019-12-21T14:56:56.368088Z"
    },
    "colab": {
     "base_uri": "https://localhost:8080/"
    },
    "colab_type": "code",
    "id": "59rUtnfrPoyT",
    "outputId": "c392d089-2f90-4e7e-f60d-624a7c94fcda"
   },
   "outputs": [
    {
     "data": {
      "text/plain": [
       "0.8789917637221477"
      ]
     },
     "execution_count": 29,
     "metadata": {},
     "output_type": "execute_result"
    }
   ],
   "source": [
    "metrics.silhouette_score(target.reshape(-1,1), y_pred_texts)"
   ]
  },
  {
   "cell_type": "markdown",
   "metadata": {
    "colab_type": "text",
    "id": "lEW3HKxJ5thv"
   },
   "source": [
    "### Test K-means for blobls"
   ]
  },
  {
   "cell_type": "code",
   "execution_count": 31,
   "metadata": {
    "ExecuteTime": {
     "end_time": "2019-12-21T14:57:22.438190Z",
     "start_time": "2019-12-21T14:57:21.370801Z"
    },
    "colab": {
     "base_uri": "https://localhost:8080/",
     "height": 464
    },
    "colab_type": "code",
    "id": "l5ma53bA5qjK",
    "outputId": "b4131389-b785-47c9-fd38-2e8a10aa7bbb"
   },
   "outputs": [
    {
     "data": {
      "text/plain": [
       "<matplotlib.collections.PathCollection at 0x1520d0dc9b0>"
      ]
     },
     "execution_count": 31,
     "metadata": {},
     "output_type": "execute_result"
    },
    {
     "data": {
      "image/png": "[encoded data removed]",
      "text/plain": [
       "<Figure size 1080x1080 with 1 Axes>"
      ]
     },
     "metadata": {},
     "output_type": "display_data"
    }
   ],
   "source": [
    "plt.figure(figsize=(15, 15))\n",
    "\n",
    "n_clusters = 3\n",
    "n_samples = 1500\n",
    "X, y = make_blobs(n_samples=n_samples, random_state=random_state, n_features=6)\n",
    "y_pred = KMeans(n_clusters=n_clusters, random_state=random_state).fit_predict(X)\n",
    "\n",
    "plt.xkcd()\n",
    "plt.subplot(221)\n",
    "plt.scatter(X[:, 0], X[:, 1], c=y_pred)"
   ]
  },
  {
   "cell_type": "code",
   "execution_count": 32,
   "metadata": {
    "ExecuteTime": {
     "end_time": "2019-12-21T14:57:24.361092Z",
     "start_time": "2019-12-21T14:57:24.352096Z"
    },
    "colab": {
     "base_uri": "https://localhost:8080/",
     "height": 35
    },
    "colab_type": "code",
    "id": "gYTyGzrk5rC_",
    "outputId": "b17dd29a-ca24-411f-e13e-85cf3d0aa528"
   },
   "outputs": [
    {
     "data": {
      "text/plain": [
       "(1500, 6)"
      ]
     },
     "execution_count": 32,
     "metadata": {},
     "output_type": "execute_result"
    }
   ],
   "source": [
    "X.shape"
   ]
  },
  {
   "cell_type": "code",
   "execution_count": 33,
   "metadata": {
    "ExecuteTime": {
     "end_time": "2019-12-21T14:57:25.619373Z",
     "start_time": "2019-12-21T14:57:25.613376Z"
    },
    "colab": {
     "base_uri": "https://localhost:8080/",
     "height": 35
    },
    "colab_type": "code",
    "id": "aM2TypAy5q_2",
    "outputId": "7461c9f7-1a5f-421e-f09f-f1dbded07fe8"
   },
   "outputs": [
    {
     "data": {
      "text/plain": [
       "array([2, 2, 2, ..., 1, 1, 2])"
      ]
     },
     "execution_count": 33,
     "metadata": {},
     "output_type": "execute_result"
    }
   ],
   "source": [
    "y_pred"
   ]
  },
  {
   "cell_type": "code",
   "execution_count": 34,
   "metadata": {
    "ExecuteTime": {
     "end_time": "2019-12-21T14:57:28.091960Z",
     "start_time": "2019-12-21T14:57:28.081967Z"
    },
    "colab": {
     "base_uri": "https://localhost:8080/",
     "height": 35
    },
    "colab_type": "code",
    "id": "y5yc1lGZ71j0",
    "outputId": "740f054b-9e20-4e07-a593-d746d20cb521"
   },
   "outputs": [
    {
     "data": {
      "text/plain": [
       "1.0"
      ]
     },
     "execution_count": 34,
     "metadata": {},
     "output_type": "execute_result"
    }
   ],
   "source": [
    "v_measure_score(y, y_pred)"
   ]
  },
  {
   "cell_type": "code",
   "execution_count": 35,
   "metadata": {
    "ExecuteTime": {
     "end_time": "2019-12-21T14:57:34.353383Z",
     "start_time": "2019-12-21T14:57:34.349385Z"
    },
    "colab": {},
    "colab_type": "code",
    "id": "ibeZDx6nGRgS"
   },
   "outputs": [],
   "source": [
    "y_pr = y_pred\n",
    "y_pr[0] = 0"
   ]
  },
  {
   "cell_type": "code",
   "execution_count": 36,
   "metadata": {
    "ExecuteTime": {
     "end_time": "2019-12-21T14:57:35.254866Z",
     "start_time": "2019-12-21T14:57:35.243873Z"
    },
    "colab": {
     "base_uri": "https://localhost:8080/",
     "height": 35
    },
    "colab_type": "code",
    "id": "RBRaC1OEGY-Z",
    "outputId": "9321f771-1d38-4ddb-9c90-9d0cf3c2947a"
   },
   "outputs": [
    {
     "data": {
      "text/plain": [
       "0.9956219848839059"
      ]
     },
     "execution_count": 36,
     "metadata": {},
     "output_type": "execute_result"
    }
   ],
   "source": [
    "v_measure_score(y, y_pr)"
   ]
  },
  {
   "cell_type": "markdown",
   "metadata": {
    "colab_type": "text",
    "id": "qrcGCknQGvfL"
   },
   "source": [
    "### p-K-means"
   ]
  },
  {
   "cell_type": "code",
   "execution_count": 37,
   "metadata": {
    "ExecuteTime": {
     "end_time": "2019-12-21T14:58:45.946541Z",
     "start_time": "2019-12-21T14:58:45.927549Z"
    },
    "colab": {},
    "colab_type": "code",
    "id": "QQC-XC4OG3kx"
   },
   "outputs": [],
   "source": [
    "A = X.T\n",
    "AA = A.T @ A"
   ]
  },
  {
   "cell_type": "code",
   "execution_count": 38,
   "metadata": {
    "ExecuteTime": {
     "end_time": "2019-12-21T14:58:46.806049Z",
     "start_time": "2019-12-21T14:58:46.799052Z"
    },
    "colab": {
     "base_uri": "https://localhost:8080/",
     "height": 35
    },
    "colab_type": "code",
    "id": "pQMEn2AOG9oj",
    "outputId": "969b6a7e-acc7-405b-8c70-55f774d854c0"
   },
   "outputs": [
    {
     "data": {
      "text/plain": [
       "(1500, 1500)"
      ]
     },
     "execution_count": 38,
     "metadata": {},
     "output_type": "execute_result"
    }
   ],
   "source": [
    "AA.shape"
   ]
  },
  {
   "cell_type": "code",
   "execution_count": 40,
   "metadata": {
    "ExecuteTime": {
     "end_time": "2019-12-21T14:58:51.456392Z",
     "start_time": "2019-12-21T14:58:51.451392Z"
    },
    "colab": {
     "base_uri": "https://localhost:8080/",
     "height": 248
    },
    "colab_type": "code",
    "id": "bJcxKQ2rb5pX",
    "outputId": "bec2d6a1-61b4-46d6-b945-0f834d8e4f82"
   },
   "outputs": [],
   "source": [
    "AA;"
   ]
  },
  {
   "cell_type": "code",
   "execution_count": 41,
   "metadata": {
    "ExecuteTime": {
     "end_time": "2019-12-21T14:58:59.901563Z",
     "start_time": "2019-12-21T14:58:53.924982Z"
    },
    "colab": {},
    "colab_type": "code",
    "id": "IwhdsEe8HDoX"
   },
   "outputs": [],
   "source": [
    "val, vect = np.linalg.eig(AA)"
   ]
  },
  {
   "cell_type": "code",
   "execution_count": 42,
   "metadata": {
    "ExecuteTime": {
     "end_time": "2019-12-21T14:58:59.914559Z",
     "start_time": "2019-12-21T14:58:59.905563Z"
    },
    "colab": {
     "base_uri": "https://localhost:8080/",
     "height": 35
    },
    "colab_type": "code",
    "id": "_cpe3hshHU2W",
    "outputId": "1a86e2a7-2470-49e6-980a-a68bd28af0c7"
   },
   "outputs": [
    {
     "data": {
      "text/plain": [
       "(1500, 1500)"
      ]
     },
     "execution_count": 42,
     "metadata": {},
     "output_type": "execute_result"
    }
   ],
   "source": [
    "vect.shape"
   ]
  },
  {
   "cell_type": "code",
   "execution_count": 46,
   "metadata": {
    "ExecuteTime": {
     "end_time": "2019-12-21T14:59:48.501793Z",
     "start_time": "2019-12-21T14:59:48.492797Z"
    },
    "colab": {
     "base_uri": "https://localhost:8080/",
     "height": 52
    },
    "colab_type": "code",
    "id": "njgi9KjI26xW",
    "outputId": "8e0dc0be-907d-4f33-b368-fe7965f29c0d"
   },
   "outputs": [
    {
     "data": {
      "text/plain": [
       "array([2.27763158e+05, 8.19542684e+04, 5.15776274e+04, 1.67292841e+03,\n",
       "       1.52508629e+03, 1.48771492e+03, 1.88979682e-11, 1.88979682e-11,\n",
       "       1.72362728e-11, 1.72362728e-11])"
      ]
     },
     "execution_count": 46,
     "metadata": {},
     "output_type": "execute_result"
    }
   ],
   "source": [
    "np.flip(np.sort(np.abs(val)))[:10]"
   ]
  },
  {
   "cell_type": "code",
   "execution_count": 47,
   "metadata": {
    "ExecuteTime": {
     "end_time": "2019-12-21T14:59:52.977238Z",
     "start_time": "2019-12-21T14:59:52.973239Z"
    },
    "colab": {},
    "colab_type": "code",
    "id": "ncvey83vHjog"
   },
   "outputs": [],
   "source": [
    "x_m_vect = np.argsort(val)[-n_clusters:]"
   ]
  },
  {
   "cell_type": "code",
   "execution_count": 48,
   "metadata": {
    "ExecuteTime": {
     "end_time": "2019-12-21T14:59:53.856735Z",
     "start_time": "2019-12-21T14:59:53.849738Z"
    },
    "colab": {
     "base_uri": "https://localhost:8080/",
     "height": 35
    },
    "colab_type": "code",
    "id": "IBWBTaLUH0Qs",
    "outputId": "4e2c7b41-84cf-4036-f1bc-297793334a2a"
   },
   "outputs": [
    {
     "data": {
      "text/plain": [
       "(1500, 3)"
      ]
     },
     "execution_count": 48,
     "metadata": {},
     "output_type": "execute_result"
    }
   ],
   "source": [
    "new_X = vect[:, x_m_vect]\n",
    "new_X.shape"
   ]
  },
  {
   "cell_type": "code",
   "execution_count": 50,
   "metadata": {
    "ExecuteTime": {
     "end_time": "2019-12-21T15:00:01.901137Z",
     "start_time": "2019-12-21T15:00:01.895140Z"
    },
    "colab": {
     "base_uri": "https://localhost:8080/",
     "height": 141
    },
    "colab_type": "code",
    "id": "vOFIutFVKbHM",
    "outputId": "2e172c55-2b8e-4169-c894-0d0f5a65152c"
   },
   "outputs": [],
   "source": [
    "new_X = np.abs(new_X)\n",
    "new_X;"
   ]
  },
  {
   "cell_type": "code",
   "execution_count": 51,
   "metadata": {
    "ExecuteTime": {
     "end_time": "2019-12-21T15:00:05.622009Z",
     "start_time": "2019-12-21T15:00:05.539057Z"
    },
    "colab": {},
    "colab_type": "code",
    "id": "A3c9-F0AICUR"
   },
   "outputs": [],
   "source": [
    "y_pred2 = KMeans(n_clusters=n_clusters, random_state=random_state).fit_predict(new_X)"
   ]
  },
  {
   "cell_type": "code",
   "execution_count": 52,
   "metadata": {
    "ExecuteTime": {
     "end_time": "2019-12-21T15:00:06.358589Z",
     "start_time": "2019-12-21T15:00:06.348594Z"
    },
    "colab": {
     "base_uri": "https://localhost:8080/",
     "height": 35
    },
    "colab_type": "code",
    "id": "AROVRHytJTTa",
    "outputId": "a8edaa52-9e3d-4423-9169-8f590410eab9"
   },
   "outputs": [
    {
     "data": {
      "text/plain": [
       "0.8782105236855258"
      ]
     },
     "execution_count": 52,
     "metadata": {},
     "output_type": "execute_result"
    }
   ],
   "source": [
    "v_measure_score(y, y_pred2)"
   ]
  },
  {
   "cell_type": "code",
   "execution_count": 55,
   "metadata": {
    "ExecuteTime": {
     "end_time": "2019-12-21T15:00:13.968241Z",
     "start_time": "2019-12-21T15:00:13.388572Z"
    },
    "colab": {
     "base_uri": "https://localhost:8080/",
     "height": 564
    },
    "colab_type": "code",
    "id": "EGO1eBRXeRJp",
    "outputId": "df61223b-4558-4e7f-fcc0-b294ff75e3fe"
   },
   "outputs": [
    {
     "data": {
      "text/plain": [
       "<matplotlib.collections.PathCollection at 0x1520d0e5da0>"
      ]
     },
     "execution_count": 55,
     "metadata": {},
     "output_type": "execute_result"
    },
    {
     "data": {
      "image/png": "[encoded data removed]",
      "text/plain": [
       "<Figure size 648x648 with 1 Axes>"
      ]
     },
     "metadata": {},
     "output_type": "display_data"
    }
   ],
   "source": [
    "plt.figure(figsize=(9, 9))\n",
    "plt.scatter(X[:, 0], X[:, 1], c=y_pred2)"
   ]
  },
  {
   "cell_type": "markdown",
   "metadata": {},
   "source": [
    "For different amount of n_features"
   ]
  },
  {
   "cell_type": "code",
   "execution_count": 56,
   "metadata": {
    "ExecuteTime": {
     "end_time": "2019-12-21T15:01:24.819753Z",
     "start_time": "2019-12-21T15:00:45.411277Z"
    },
    "colab": {},
    "colab_type": "code",
    "id": "9TDUjwTCNaLU"
   },
   "outputs": [],
   "source": [
    "scores = []\n",
    "n_f = []\n",
    "for i in range(1, 25, 4):\n",
    "  n_f.append(i)\n",
    "  X, y = make_blobs(n_samples=n_samples, random_state=random_state, n_features=i)\n",
    "  A = X.T\n",
    "  AA = A.T @ A\n",
    "  val, vect = np.linalg.eig(AA)\n",
    "  x_m_vect = np.argsort(val)[-n_clusters:]\n",
    "  new_X = vect[:, x_m_vect]\n",
    "  new_X = np.abs(new_X)\n",
    "  y_pred2 = KMeans(n_clusters=n_clusters, random_state=random_state).fit_predict(new_X)\n",
    "  scores.append(v_measure_score(y, y_pred2))"
   ]
  },
  {
   "cell_type": "code",
   "execution_count": 57,
   "metadata": {
    "ExecuteTime": {
     "end_time": "2019-12-21T15:01:24.834745Z",
     "start_time": "2019-12-21T15:01:24.822752Z"
    },
    "colab": {
     "base_uri": "https://localhost:8080/",
     "height": 106
    },
    "colab_type": "code",
    "id": "Zn7yrfd998Wx",
    "outputId": "d6b4524b-a94b-4633-e571-6ff153164804"
   },
   "outputs": [
    {
     "data": {
      "text/plain": [
       "[0.30666099734759816,\n",
       " 0.8096210505828637,\n",
       " 0.8522458585682574,\n",
       " 0.8170002256131205,\n",
       " 1.0,\n",
       " 1.0]"
      ]
     },
     "execution_count": 57,
     "metadata": {},
     "output_type": "execute_result"
    }
   ],
   "source": [
    "scores"
   ]
  },
  {
   "cell_type": "code",
   "execution_count": 58,
   "metadata": {
    "ExecuteTime": {
     "end_time": "2019-12-21T15:01:24.946682Z",
     "start_time": "2019-12-21T15:01:24.839742Z"
    },
    "colab": {
     "base_uri": "https://localhost:8080/",
     "height": 35
    },
    "colab_type": "code",
    "id": "JjimCfO3-91k",
    "outputId": "1cb24d1e-88ff-4ee6-ec6f-f4da0960b78b"
   },
   "outputs": [
    {
     "data": {
      "text/plain": [
       "[1, 5, 9, 13, 17, 21]"
      ]
     },
     "execution_count": 58,
     "metadata": {},
     "output_type": "execute_result"
    }
   ],
   "source": [
    "n_f"
   ]
  },
  {
   "cell_type": "code",
   "execution_count": 61,
   "metadata": {
    "ExecuteTime": {
     "end_time": "2019-12-21T15:01:46.924123Z",
     "start_time": "2019-12-21T15:01:46.203534Z"
    },
    "colab": {
     "base_uri": "https://localhost:8080/",
     "height": 641
    },
    "colab_type": "code",
    "id": "JwiAavtM9--d",
    "outputId": "c57c31e6-6c74-4301-8ae4-d1089d808c0a"
   },
   "outputs": [
    {
     "data": {
      "text/plain": [
       "Text(0.5, 0, 'number of features')"
      ]
     },
     "execution_count": 61,
     "metadata": {},
     "output_type": "execute_result"
    },
    {
     "data": {
      "image/png": "[encoded data removed]",
      "text/plain": [
       "<Figure size 720x720 with 1 Axes>"
      ]
     },
     "metadata": {},
     "output_type": "display_data"
    }
   ],
   "source": [
    "plt.figure(figsize=(10, 10))\n",
    "plt.plot(n_f, scores, linewidth=2.5)\n",
    "plt.ylabel(r\"accuracy\", fontsize=20)\n",
    "plt.xlabel(r\"number of features\", fontsize=20)"
   ]
  },
  {
   "cell_type": "markdown",
   "metadata": {
    "colab_type": "text",
    "id": "YLwJCextILRZ"
   },
   "source": [
    "We see that when the number of features becomes substantially bigger than the number of clusters, then the algorithm works well at least with synthetic data"
   ]
  },
  {
   "cell_type": "markdown",
   "metadata": {
    "colab_type": "text",
    "id": "e05agYUUINQv"
   },
   "source": [
    "### Let's use p-kmeans for 20newsgroups dataset"
   ]
  },
  {
   "cell_type": "code",
   "execution_count": 93,
   "metadata": {
    "ExecuteTime": {
     "end_time": "2019-12-21T15:29:49.435425Z",
     "start_time": "2019-12-21T15:29:47.612467Z"
    },
    "colab": {},
    "colab_type": "code",
    "id": "ZIdvSMY7Z_nC"
   },
   "outputs": [],
   "source": [
    "categories =['rec.motorcycles', 'rec.sport.baseball']\n",
    "dataset2 = fetch_20newsgroups(subset='all',\n",
    "                             shuffle=True, random_state=random_state, categories = categories)\n",
    "texts = dataset2.data\n",
    "target = dataset2.target\n",
    "number_of_clusters = 2\n",
    "\n",
    "vectorizer = TfidfVectorizer(stop_words='english', max_features=10000, norm = 'l2', max_df = 0.1, min_df = 6)\n",
    "X = vectorizer.fit_transform(texts).toarray()"
   ]
  },
  {
   "cell_type": "code",
   "execution_count": 94,
   "metadata": {
    "ExecuteTime": {
     "end_time": "2019-12-21T15:29:49.447419Z",
     "start_time": "2019-12-21T15:29:49.439422Z"
    },
    "colab": {
     "base_uri": "https://localhost:8080/"
    },
    "colab_type": "code",
    "id": "qMb0fTIm3HLL",
    "outputId": "a589d712-ce47-4037-d701-bef63641ff69"
   },
   "outputs": [
    {
     "data": {
      "text/plain": [
       "(1990, 5610)"
      ]
     },
     "execution_count": 94,
     "metadata": {},
     "output_type": "execute_result"
    }
   ],
   "source": [
    "X.shape"
   ]
  },
  {
   "cell_type": "code",
   "execution_count": 95,
   "metadata": {
    "ExecuteTime": {
     "end_time": "2019-12-21T15:30:04.599760Z",
     "start_time": "2019-12-21T15:29:49.451417Z"
    },
    "colab": {
     "base_uri": "https://localhost:8080/"
    },
    "colab_type": "code",
    "id": "F5t2W1f1ILu9",
    "outputId": "4a2d8e29-fa18-47f9-9dfd-79abce9cdeb6"
   },
   "outputs": [
    {
     "data": {
      "text/plain": [
       "0.02819917858609398"
      ]
     },
     "execution_count": 95,
     "metadata": {},
     "output_type": "execute_result"
    }
   ],
   "source": [
    "A = X.T\n",
    "AA = A.T @ A\n",
    "val, vect = np.linalg.eig(AA)\n",
    "x_m_vect = np.argsort(val)[-number_of_clusters:]\n",
    "new_X = vect[:, x_m_vect]\n",
    "new_X = np.abs(new_X)\n",
    "y_pred2 = KMeans(n_clusters=number_of_clusters, random_state=42).fit_predict(new_X)\n",
    "v_measure_score(target, y_pred2)"
   ]
  },
  {
   "cell_type": "code",
   "execution_count": 96,
   "metadata": {
    "ExecuteTime": {
     "end_time": "2019-12-21T15:30:04.618749Z",
     "start_time": "2019-12-21T15:30:04.603758Z"
    },
    "colab": {
     "base_uri": "https://localhost:8080/"
    },
    "colab_type": "code",
    "id": "yLldsKL9v5De",
    "outputId": "680bc655-8728-48ff-d8bc-a48b4b12ea3c"
   },
   "outputs": [
    {
     "data": {
      "text/plain": [
       "(0.015732793541401797, 0.13582252653917729, 0.02819917858609398)"
      ]
     },
     "execution_count": 96,
     "metadata": {},
     "output_type": "execute_result"
    }
   ],
   "source": [
    "homogeneity_completeness_v_measure(target, y_pred2)"
   ]
  },
  {
   "cell_type": "markdown",
   "metadata": {},
   "source": [
    "By some reason p-k-means does not work with vectorised textual data, it seems that problem in vectorisation "
   ]
  },
  {
   "cell_type": "code",
   "execution_count": 92,
   "metadata": {
    "ExecuteTime": {
     "end_time": "2019-12-21T15:29:42.328487Z",
     "start_time": "2019-12-21T15:29:27.688853Z"
    },
    "colab": {
     "base_uri": "https://localhost:8080/"
    },
    "colab_type": "code",
    "id": "PGDTkz0NsA-Z",
    "outputId": "37a7db89-e577-4f86-9cc8-51e391b11b18"
   },
   "outputs": [
    {
     "data": {
      "text/plain": [
       "0.8728259418353201"
      ]
     },
     "execution_count": 92,
     "metadata": {},
     "output_type": "execute_result"
    }
   ],
   "source": [
    "y_pred_texts = KMeans(n_clusters=number_of_clusters, random_state=42).fit_predict(X)\n",
    "v_measure_score(target, y_pred_texts)"
   ]
  },
  {
   "cell_type": "markdown",
   "metadata": {
    "colab_type": "text",
    "id": "Ms_9USMBigHO"
   },
   "source": [
    "### p-QR"
   ]
  },
  {
   "cell_type": "code",
   "execution_count": 68,
   "metadata": {
    "ExecuteTime": {
     "end_time": "2019-12-21T15:15:24.819525Z",
     "start_time": "2019-12-21T15:15:24.803535Z"
    },
    "colab": {},
    "colab_type": "code",
    "id": "GTeKFAfdihXs"
   },
   "outputs": [],
   "source": [
    "def modified_gram_schmidt_qr(A):\n",
    "    m = A.shape[0]\n",
    "    n = A.shape[1]\n",
    "    Q = A[:m, :min(m,n)].copy()\n",
    "    R = np.zeros((min(m,n), n))\n",
    "    Q[:, 0] = A[:, 0] / np.linalg.norm(A[:, 0])\n",
    "    for i in range(min(m, n)):\n",
    "        for j in range(i):\n",
    "            Q[:, i] -= proj(Q[:, i], Q[:, j])      \n",
    "        Q[:, i] = Q[:, i] / np.linalg.norm(Q[:, i])\n",
    "        for k in range(i, n):\n",
    "            R[i, k] = np.dot(Q[:, i], A[:, k])\n",
    "            \n",
    "    return Q, R\n",
    "\n",
    "def proj(a, e):\n",
    "    return e * np.dot(a, e)\n",
    "\n",
    "def pivoted_QR(A):\n",
    "    k = A.shape[0]\n",
    "    n = A.shape[1]\n",
    "    Q = np.zeros((k, k))\n",
    "    R = np.zeros((k, n))\n",
    "    B = A.copy()\n",
    "    P = np.arange(n)\n",
    "    for j in range(k):\n",
    "        norms = np.linalg.norm(B[:, j:], axis=0)\n",
    "        j_max = np.argmax(norms) + j\n",
    "        P[[j, j_max]] = P[[j_max, j]]\n",
    "        B[:, [j, j_max]] = B[:, [j_max, j]]\n",
    "        R[:, [j, j_max]] = R[:, [j_max, j]]\n",
    "        Q[:, j] = B[:, j] / np.linalg.norm(B[:, j])\n",
    "    \n",
    "        R[j, j] = np.linalg.norm(B[:, j])\n",
    "        \n",
    "        for i in range(j+1, n):\n",
    "            R[j, i] = np.dot(Q[:, j], B[:, i])\n",
    "        \n",
    "        for i in range(j+1, n):\n",
    "            B[:, i] -= proj(B[: , i], Q[:, j])\n",
    "            \n",
    "    return P, Q, R"
   ]
  },
  {
   "cell_type": "code",
   "execution_count": 69,
   "metadata": {
    "ExecuteTime": {
     "end_time": "2019-12-21T15:15:26.556533Z",
     "start_time": "2019-12-21T15:15:26.547538Z"
    },
    "colab": {},
    "colab_type": "code",
    "id": "-LUEa-AFimD_"
   },
   "outputs": [],
   "source": [
    "def PQR_clustering(A, k):\n",
    "    ATA = A.T@A\n",
    "    vals, vecs = np.linalg.eigh(ATA)\n",
    "    indices = np.argsort(vals)[-k: ]\n",
    "    X = vecs[:, indices]\n",
    "    P, Q, R = pivoted_QR(X.T)\n",
    "    PT = np.argsort(P)\n",
    "    R_hat = (np.linalg.inv(R[:, :k]) @ R)[:, PT]\n",
    "    labels = np.argmax(np.abs(R_hat), axis=0)\n",
    "    \n",
    "    return labels"
   ]
  },
  {
   "cell_type": "code",
   "execution_count": 71,
   "metadata": {
    "ExecuteTime": {
     "end_time": "2019-12-21T15:16:51.093262Z",
     "start_time": "2019-12-21T15:16:49.715049Z"
    },
    "colab": {
     "base_uri": "https://localhost:8080/",
     "height": 35
    },
    "colab_type": "code",
    "id": "a2GF-BpCinTk",
    "outputId": "da80c0b9-cba1-4e48-d477-0685efd23530"
   },
   "outputs": [
    {
     "data": {
      "text/plain": [
       "1.0"
      ]
     },
     "execution_count": 71,
     "metadata": {},
     "output_type": "execute_result"
    }
   ],
   "source": [
    "X, y = make_blobs(n_samples=n_samples, random_state=random_state, n_features=6)\n",
    "A = X.T\n",
    "number_of_clusters = 3\n",
    "y_pred_qr = PQR_clustering(A, number_of_clusters)\n",
    "v_measure_score(y, y_pred_qr)"
   ]
  },
  {
   "cell_type": "markdown",
   "metadata": {},
   "source": [
    "For different amount of n_features"
   ]
  },
  {
   "cell_type": "code",
   "execution_count": 72,
   "metadata": {
    "ExecuteTime": {
     "end_time": "2019-12-21T15:17:10.289291Z",
     "start_time": "2019-12-21T15:16:58.976759Z"
    },
    "colab": {},
    "colab_type": "code",
    "id": "ze1RHkMRjHe9"
   },
   "outputs": [],
   "source": [
    "scores = []\n",
    "n_f = []\n",
    "for i in range(1, 25, 4):\n",
    "  n_f.append(i)\n",
    "  X, y = make_blobs(n_samples=n_samples, random_state=random_state, n_features=i)\n",
    "  A = X.T\n",
    "  number_of_clusters = 3\n",
    "  y_pred_qr = PQR_clustering(A, number_of_clusters)\n",
    "  scores.append(v_measure_score(y, y_pred_qr))"
   ]
  },
  {
   "cell_type": "code",
   "execution_count": 73,
   "metadata": {
    "ExecuteTime": {
     "end_time": "2019-12-21T15:17:24.564135Z",
     "start_time": "2019-12-21T15:17:23.801570Z"
    },
    "colab": {
     "base_uri": "https://localhost:8080/",
     "height": 641
    },
    "colab_type": "code",
    "id": "LMtMu8irjraw",
    "outputId": "ccc74c77-3dcb-413c-bab1-bb6a855b7c69"
   },
   "outputs": [
    {
     "data": {
      "text/plain": [
       "Text(0.5, 0, 'number of features')"
      ]
     },
     "execution_count": 73,
     "metadata": {},
     "output_type": "execute_result"
    },
    {
     "data": {
      "image/png": "[encoded data removed]",
      "text/plain": [
       "<Figure size 720x720 with 1 Axes>"
      ]
     },
     "metadata": {},
     "output_type": "display_data"
    }
   ],
   "source": [
    "plt.figure(figsize=(10, 10))\n",
    "plt.plot(n_f, scores, linewidth=2.5)\n",
    "plt.ylabel(r\"accuracy\", fontsize=20)\n",
    "plt.xlabel(r\"number of features\", fontsize=20)"
   ]
  },
  {
   "cell_type": "markdown",
   "metadata": {
    "colab_type": "text",
    "id": "EO1-t1K5BHCc"
   },
   "source": [
    "### Timing check for three methods (blobs data)"
   ]
  },
  {
   "cell_type": "markdown",
   "metadata": {},
   "source": [
    "K-means"
   ]
  },
  {
   "cell_type": "code",
   "execution_count": 0,
   "metadata": {
    "colab": {
     "base_uri": "https://localhost:8080/",
     "height": 70
    },
    "colab_type": "code",
    "id": "eZHSvT5kBso7",
    "outputId": "9fa81e5d-1a67-46ca-fd31-b21cb82d82ba"
   },
   "outputs": [
    {
     "name": "stdout",
     "output_type": "stream",
     "text": [
      "100 loops, best of 3: 14.5 ms per loop\n",
      "10 loops, best of 3: 25.5 ms per loop\n",
      "10 loops, best of 3: 46.9 ms per loop\n"
     ]
    }
   ],
   "source": [
    "number_of_clusters = 3\n",
    "\n",
    "for i in [100, 1000, 5000]:\n",
    "  X, y = make_blobs(n_samples=i, random_state=42, n_features=10)\n",
    "  %timeit y_pred = KMeans(n_clusters=number_of_clusters, random_state=42).fit_predict(X)"
   ]
  },
  {
   "cell_type": "markdown",
   "metadata": {},
   "source": [
    "p-Kmeans"
   ]
  },
  {
   "cell_type": "code",
   "execution_count": 0,
   "metadata": {
    "colab": {
     "base_uri": "https://localhost:8080/",
     "height": 70
    },
    "colab_type": "code",
    "id": "-YgGvwzwBpii",
    "outputId": "8223bf53-faa1-438b-f454-cf631a18f400"
   },
   "outputs": [
    {
     "name": "stdout",
     "output_type": "stream",
     "text": [
      "10 loops, best of 3: 36.1 ms per loop\n",
      "1 loop, best of 3: 1.46 s per loop\n",
      "1 loop, best of 3: 1min 8s per loop\n"
     ]
    }
   ],
   "source": [
    "def p_kmeans(X, number_of_clusters):\n",
    "  A = X.T\n",
    "  AA = A.T @ A\n",
    "  val, vect = np.linalg.eig(AA)\n",
    "  x_m_vect = np.argsort(val)[-number_of_clusters:]\n",
    "  new_X = vect[:, x_m_vect]\n",
    "  new_X = np.abs(new_X)\n",
    "  y_pred2 = KMeans(n_clusters=number_of_clusters, random_state=42).fit_predict(new_X)\n",
    "  return(y_pred2)\n",
    "\n",
    "for i in [100, 1000, 5000]:\n",
    "  X, y = make_blobs(n_samples=i, random_state=42, n_features=10)\n",
    "  %timeit y_pred2 = p_kmeans(X, number_of_clusters)"
   ]
  },
  {
   "cell_type": "markdown",
   "metadata": {},
   "source": [
    "p-QR"
   ]
  },
  {
   "cell_type": "code",
   "execution_count": 0,
   "metadata": {
    "colab": {
     "base_uri": "https://localhost:8080/",
     "height": 70
    },
    "colab_type": "code",
    "id": "E8RR6XPnBGan",
    "outputId": "7049a728-c0c0-45d5-95a8-c941d70eac1c"
   },
   "outputs": [
    {
     "name": "stdout",
     "output_type": "stream",
     "text": [
      "100 loops, best of 3: 6.94 ms per loop\n",
      "1 loop, best of 3: 206 ms per loop\n",
      "1 loop, best of 3: 14.7 s per loop\n"
     ]
    }
   ],
   "source": [
    "for i in [100, 1000, 5000]:\n",
    "  X, y = make_blobs(n_samples=i, random_state=42, n_features=10)\n",
    "  A = X.T\n",
    "  %timeit y_pred_qr = PQR_clustering(A, number_of_clusters)"
   ]
  },
  {
   "cell_type": "markdown",
   "metadata": {
    "colab_type": "text",
    "id": "Dqt9XLivj2RW"
   },
   "source": [
    "### p-QR for 20newsgroups"
   ]
  },
  {
   "cell_type": "markdown",
   "metadata": {},
   "source": [
    "number_of_clusters = 2"
   ]
  },
  {
   "cell_type": "code",
   "execution_count": 74,
   "metadata": {
    "ExecuteTime": {
     "end_time": "2019-12-21T15:22:58.568787Z",
     "start_time": "2019-12-21T15:22:57.337495Z"
    },
    "colab": {},
    "colab_type": "code",
    "id": "CqrXEKKKuDJn"
   },
   "outputs": [],
   "source": [
    "categories =['rec.motorcycles','rec.sport.baseball']\n",
    "dataset2 = fetch_20newsgroups(subset='all',\n",
    "                             shuffle=True, random_state=random_state, categories = categories)\n",
    "texts = dataset2.data\n",
    "target = dataset2.target\n",
    "number_of_clusters = 2\n",
    "\n",
    "vectorizer = TfidfVectorizer(stop_words='english', max_features=1000, norm = 'l2', max_df = 0.3, min_df = 8) # k means лучше на 5% с 10000 чем с 1000\n",
    "X = vectorizer.fit_transform(texts).toarray()"
   ]
  },
  {
   "cell_type": "code",
   "execution_count": 75,
   "metadata": {
    "ExecuteTime": {
     "end_time": "2019-12-21T15:23:02.059794Z",
     "start_time": "2019-12-21T15:22:59.120475Z"
    },
    "colab": {
     "base_uri": "https://localhost:8080/",
     "height": 35
    },
    "colab_type": "code",
    "id": "vcUeEyqJkCBy",
    "outputId": "57053983-d5ad-4e46-d8b5-75dd53c02d90"
   },
   "outputs": [
    {
     "data": {
      "text/plain": [
       "0.7708731846509155"
      ]
     },
     "execution_count": 75,
     "metadata": {},
     "output_type": "execute_result"
    }
   ],
   "source": [
    "A = X.T\n",
    "y_pred_qr = PQR_clustering(A, number_of_clusters)\n",
    "v_measure_score(target, y_pred_qr)"
   ]
  },
  {
   "cell_type": "code",
   "execution_count": 76,
   "metadata": {
    "ExecuteTime": {
     "end_time": "2019-12-21T15:23:04.876185Z",
     "start_time": "2019-12-21T15:23:02.752403Z"
    },
    "colab": {
     "base_uri": "https://localhost:8080/",
     "height": 35
    },
    "colab_type": "code",
    "id": "7Fd4ZYXLkop0",
    "outputId": "52fc148a-f1b5-4d4b-fd35-2d8a865851e0"
   },
   "outputs": [
    {
     "data": {
      "text/plain": [
       "0.808339951305998"
      ]
     },
     "execution_count": 76,
     "metadata": {},
     "output_type": "execute_result"
    }
   ],
   "source": [
    "y_pred_texts = KMeans(n_clusters=number_of_clusters, random_state=42).fit_predict(X)\n",
    "v_measure_score(target, y_pred_texts)"
   ]
  },
  {
   "cell_type": "markdown",
   "metadata": {},
   "source": [
    "number_of_clusters = 4"
   ]
  },
  {
   "cell_type": "code",
   "execution_count": 77,
   "metadata": {
    "ExecuteTime": {
     "end_time": "2019-12-21T15:24:22.460851Z",
     "start_time": "2019-12-21T15:23:53.283525Z"
    },
    "colab": {
     "base_uri": "https://localhost:8080/",
     "height": 35
    },
    "colab_type": "code",
    "id": "DSoO7ectve-W",
    "outputId": "cd99f1f7-0914-4e84-b0b0-12ec1d86c4fc"
   },
   "outputs": [
    {
     "data": {
      "text/plain": [
       "0.7547051246420183"
      ]
     },
     "execution_count": 77,
     "metadata": {},
     "output_type": "execute_result"
    }
   ],
   "source": [
    "categories =['rec.motorcycles', 'rec.sport.baseball', 'alt.atheism', 'comp.graphics']\n",
    "dataset2 = fetch_20newsgroups(subset='all',\n",
    "                             shuffle=True, random_state=random_state, categories = categories)\n",
    "texts = dataset2.data\n",
    "target = dataset2.target\n",
    "number_of_clusters = 4\n",
    "\n",
    "vectorizer = TfidfVectorizer(stop_words='english', norm = 'l2', max_df = 0.3, min_df = 8)\n",
    "X = vectorizer.fit_transform(texts).toarray()\n",
    "A = X.T\n",
    "y_pred_qr = PQR_clustering(A, number_of_clusters)\n",
    "v_measure_score(target, y_pred_qr)"
   ]
  },
  {
   "cell_type": "code",
   "execution_count": 78,
   "metadata": {
    "ExecuteTime": {
     "end_time": "2019-12-21T15:25:01.433582Z",
     "start_time": "2019-12-21T15:24:22.465848Z"
    },
    "colab": {
     "base_uri": "https://localhost:8080/",
     "height": 35
    },
    "colab_type": "code",
    "id": "dWK0HC4QvyA-",
    "outputId": "65388c84-99d5-4c2c-d721-cf55cf15632b"
   },
   "outputs": [
    {
     "data": {
      "text/plain": [
       "0.6734266363809611"
      ]
     },
     "execution_count": 78,
     "metadata": {},
     "output_type": "execute_result"
    }
   ],
   "source": [
    "y_pred_texts = KMeans(n_clusters=number_of_clusters, random_state=42).fit_predict(X)\n",
    "v_measure_score(target, y_pred_texts)"
   ]
  },
  {
   "cell_type": "markdown",
   "metadata": {},
   "source": [
    "number_of_clusters = 20"
   ]
  },
  {
   "cell_type": "code",
   "execution_count": 0,
   "metadata": {
    "colab": {
     "base_uri": "https://localhost:8080/",
     "height": 35
    },
    "colab_type": "code",
    "id": "qb6_w7_Iwyth",
    "outputId": "0ef22150-9cc7-4745-933b-3c43bc5a7b19"
   },
   "outputs": [
    {
     "data": {
      "text/plain": [
       "0.38067964973580287"
      ]
     },
     "execution_count": 7,
     "metadata": {
      "tags": []
     },
     "output_type": "execute_result"
    }
   ],
   "source": [
    "dataset2 = fetch_20newsgroups(subset='all',\n",
    "                             shuffle=True, random_state=42)\n",
    "texts = dataset2.data\n",
    "target = dataset2.target\n",
    "number_of_clusters = 20\n",
    "\n",
    "vectorizer = TfidfVectorizer(stop_words='english', norm = 'l2', max_df = 0.3, min_df = 8)\n",
    "X = vectorizer.fit_transform(texts).toarray()\n",
    "\n",
    "A = X.T\n",
    "y_pred_qr = PQR_clustering(A, number_of_clusters)\n",
    "v_measure_score(target, y_pred_qr)"
   ]
  },
  {
   "cell_type": "code",
   "execution_count": 0,
   "metadata": {
    "colab": {
     "base_uri": "https://localhost:8080/",
     "height": 35
    },
    "colab_type": "code",
    "id": "UJ2zY5qDyAmY",
    "outputId": "09b2109d-7b6d-49d1-b3d2-0cf1dd498b2b"
   },
   "outputs": [
    {
     "data": {
      "text/plain": [
       "0.3533243402768801"
      ]
     },
     "execution_count": 8,
     "metadata": {
      "tags": []
     },
     "output_type": "execute_result"
    }
   ],
   "source": [
    "y_pred_texts = KMeans(n_clusters=number_of_clusters, random_state=42).fit_predict(X)\n",
    "v_measure_score(target, y_pred_texts)"
   ]
  },
  {
   "cell_type": "markdown",
   "metadata": {
    "ExecuteTime": {
     "end_time": "2019-12-21T15:26:05.596333Z",
     "start_time": "2019-12-21T15:26:05.589338Z"
    },
    "colab": {},
    "colab_type": "code",
    "id": "7tR32qtNyIU7"
   },
   "source": [
    "We see that p-QR is more stable at shows better results for a bigger amount of clusters."
   ]
  }
 ],
 "metadata": {
  "colab": {
   "collapsed_sections": [
    "lEW3HKxJ5thv",
    "qrcGCknQGvfL"
   ],
   "machine_shape": "hm",
   "name": "NLA_spectral_relaxation_kmeans.ipynb",
   "provenance": []
  },
  "kernelspec": {
   "display_name": "Python 3",
   "language": "python",
   "name": "python3"
  },
  "language_info": {
   "codemirror_mode": {
    "name": "ipython",
    "version": 3
   },
   "file_extension": ".py",
   "mimetype": "text/x-python",
   "name": "python",
   "nbconvert_exporter": "python",
   "pygments_lexer": "ipython3",
   "version": "3.6.5"
  },
  "toc": {
   "base_numbering": 1,
   "nav_menu": {},
   "number_sections": true,
   "sideBar": true,
   "skip_h1_title": true,
   "title_cell": "Table of Contents",
   "title_sidebar": "Contents",
   "toc_cell": false,
   "toc_position": {},
   "toc_section_display": true,
   "toc_window_display": false
  }
 },
 "nbformat": 4,
 "nbformat_minor": 1
}
